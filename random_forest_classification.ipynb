{
 "cells": [
  {
   "cell_type": "markdown",
   "metadata": {},
   "source": [
    "Now let's attempt to classify GOTO light curves with the FATS features and a random forest classifier. For this task we'll group the GOTO light curves into two classes:\n",
    "- flare/variable star\n",
    "- supernova/transient\n",
    "\n",
    "To train and test the classifier, we'll use a simulated data set that I've created which has light curves for\n",
    "- M-dwarf stellar flares\n",
    "- Supernovae\n",
    "- Variable stars\n",
    "\n",
    "The light curves have been created to replicate what GOTO would observe (given information about the filter and cadence)."
   ]
  },
  {
   "cell_type": "code",
   "execution_count": 1,
   "metadata": {},
   "outputs": [],
   "source": [
    "import utils\n",
    "import pandas as pd\n",
    "import numpy as np\n",
    "import sklearn as sk\n",
    "from sklearn.ensemble import RandomForestClassifier\n",
    "from sklearn.model_selection import cross_val_score, GridSearchCV, ParameterGrid\n",
    "from sklearn.preprocessing import StandardScaler\n",
    "from mpl_toolkits.axes_grid1 import make_axes_locatable\n",
    "import matplotlib.pyplot as plt"
   ]
  },
  {
   "cell_type": "code",
   "execution_count": 12,
   "metadata": {},
   "outputs": [],
   "source": [
    "# Method to plot confusion matrix\n",
    "# class_labels are the possible predicted classes\n",
    "def plot_confusion_matrix(true_labels, predicted_labels, classes, title):\n",
    "    \n",
    "    # Create confusion matrix\n",
    "    cm = sk.metrics.confusion_matrix(true_labels, predicted_labels)\n",
    "    \n",
    "    # Normalise confusion matrix\n",
    "    cm = cm.astype('float') / cm.sum(axis=1, keepdims=True)\n",
    "    \n",
    "    # Define colourmap for plot\n",
    "    cmap=plt.cm.Oranges\n",
    "    \n",
    "    fig, ax = plt.subplots(figsize=(6,6))\n",
    "    im = ax.imshow(cm, interpolation='nearest', cmap=cmap)\n",
    "    \n",
    "    # create an axes on the right side of ax. The width of cax will be 5%\n",
    "    # of ax and the padding between cax and ax will be fixed at 0.05 inch.\n",
    "    divider = make_axes_locatable(ax)\n",
    "    cax = divider.append_axes(\"right\", size=\"8%\", pad=0.2)\n",
    "    \n",
    "    ax.figure.colorbar(im, cax=cax)\n",
    "    # We want to show all ticks...\n",
    "    ax.set(xticks=np.arange(cm.shape[1]),\n",
    "           yticks=np.arange(cm.shape[0]),\n",
    "           # ... and label them with the respective list entries\n",
    "           xticklabels=classes, yticklabels=classes,\n",
    "           title=title,\n",
    "           ylabel='True label',\n",
    "           xlabel='Predicted label')\n",
    "    #ax.tick_params(axis='y', pad=10)\n",
    "    \n",
    "    # Rotate the tick labels and set their alignment.\n",
    "    plt.setp(ax.get_xticklabels(), ha=\"center\",\n",
    "             rotation_mode=\"anchor\")\n",
    "    plt.setp(ax.get_yticklabels(), ha=\"center\",\n",
    "             rotation_mode=\"anchor\", rotation=90)\n",
    "    \n",
    "\n",
    "    # Loop over data dimensions and create text annotations.\n",
    "    fmt = '.2f' #if normalize else 'd'\n",
    "    thresh = cm.max() / 2.\n",
    "    for i in range(cm.shape[0]):\n",
    "        for j in range(cm.shape[1]):\n",
    "            ax.text(j, i, format(cm[i, j], fmt),\n",
    "                    ha=\"center\", va=\"center\",\n",
    "                    color=\"white\" if cm[i, j] > thresh else \"black\")\n",
    "    fig.tight_layout()\n",
    "    \n",
    "    return ax"
   ]
  },
  {
   "cell_type": "markdown",
   "metadata": {},
   "source": [
    "We need to prepare the data for training and testing. The data needs to be split into __features__ and __labels__."
   ]
  },
  {
   "cell_type": "code",
   "execution_count": 3,
   "metadata": {},
   "outputs": [],
   "source": [
    "# Read in features\n",
    "sim_data = pd.read_csv('simulated_fats_features.csv')\n",
    "\n",
    "# Split into features and labels\n",
    "labels = sim_data['type']\n",
    "\n",
    "# Put m-dwarfs and variable stars in one group\n",
    "labels = labels.replace(['m_dwarf', 'varstar'], 'flare/varstar')\n",
    "labels = labels.replace(['sn', 'at'], 'sn/transient')\n",
    "features = sim_data.drop(columns=['type'])"
   ]
  },
  {
   "cell_type": "markdown",
   "metadata": {},
   "source": [
    "Sometimes features will contain empty or values that don't make sense (e.g. infinities). A common practice in machine learning is to sometimes fill in the empty values with the median value of all other data for that feature."
   ]
  },
  {
   "cell_type": "code",
   "execution_count": 4,
   "metadata": {},
   "outputs": [
    {
     "name": "stderr",
     "output_type": "stream",
     "text": [
      "/home/umar/.local/lib/python3.6/site-packages/pandas/core/indexing.py:190: SettingWithCopyWarning: \n",
      "A value is trying to be set on a copy of a slice from a DataFrame\n",
      "\n",
      "See the caveats in the documentation: http://pandas.pydata.org/pandas-docs/stable/indexing.html#indexing-view-versus-copy\n",
      "  self._setitem_with_indexer(indexer, value)\n"
     ]
    }
   ],
   "source": [
    "# Handle nan data - replace with median values\n",
    "nan_columns = features.columns[features.isna().any()].to_list()\n",
    "\n",
    "for col in nan_columns:\n",
    "    \n",
    "    fd = features[col]\n",
    "    \n",
    "    # Get mean value of column\n",
    "    median_val = fd.median()\n",
    "    idx = fd[pd.isna(fd)].index.values\n",
    "    \n",
    "    # Set nan values to median\n",
    "    fd.iloc[idx] = median_val"
   ]
  },
  {
   "cell_type": "markdown",
   "metadata": {},
   "source": [
    "It is important to have a __balanced__ training set, where there are equal numbers of samples from each class. Otherwise the classifier will struggle to classify accurately. So let's create a balanced training set. We have a total of 55442 simulated light curves, and split the data into a 20\\% balanced training set and an 80\\% test set."
   ]
  },
  {
   "cell_type": "code",
   "execution_count": 6,
   "metadata": {},
   "outputs": [
    {
     "name": "stdout",
     "output_type": "stream",
     "text": [
      "Training set size:  11088\n",
      "Test set size:  44354\n"
     ]
    }
   ],
   "source": [
    "# Split into training and test set\n",
    "X_train, X_test, y_train, y_test = utils.balanced_train_test_split(features, labels, test_size=0.8, random_state=1)\n",
    "print('Training set size: ', len(X_train))\n",
    "print('Test set size: ', len(X_test))"
   ]
  },
  {
   "cell_type": "markdown",
   "metadata": {},
   "source": [
    "For classification, we'll use the random forest algorithm.\n",
    "\n",
    "Next, we use five-fold cross-validation to determine the best hyperparameters and use the $F_1$ score as the performance metric. The $F_1$ score is defined as\n",
    "\n",
    "$$F_1 = 2 \\times \\frac{\\mathrm{purity} \\times \\mathrm{completeness}}{\\mathrm{purity} + \\mathrm{completeness}}$$\n",
    "\n",
    "The $F_1$ score averaged over all classes, the macro $F_1$ score is used.\n",
    "\n",
    "The hyperparameters that we'll vary are\n",
    "- `n_trees`: the number of decision trees in the random forest\n",
    "- `max_depth`: the maximum number of splits performed by each decision tree\n",
    "- `max_features`: the maximum number of features sampled by the tree at each split"
   ]
  },
  {
   "cell_type": "code",
   "execution_count": 7,
   "metadata": {},
   "outputs": [
    {
     "name": "stdout",
     "output_type": "stream",
     "text": [
      "F1 macro score: 1.00 +/- 0.00\n",
      "{'max_depth': 12, 'max_features': 'sqrt', 'n_estimators': 100}\n",
      "--------------------------------------------------------------------------------------\n",
      "F1 macro score: 1.00 +/- 0.00\n",
      "{'max_depth': 12, 'max_features': 'sqrt', 'n_estimators': 200}\n",
      "--------------------------------------------------------------------------------------\n",
      "F1 macro score: 1.00 +/- 0.00\n",
      "{'max_depth': 12, 'max_features': 'sqrt', 'n_estimators': 300}\n",
      "--------------------------------------------------------------------------------------\n",
      "F1 macro score: 1.00 +/- 0.00\n",
      "{'max_depth': 12, 'max_features': 'log2', 'n_estimators': 100}\n",
      "--------------------------------------------------------------------------------------\n",
      "F1 macro score: 1.00 +/- 0.00\n",
      "{'max_depth': 12, 'max_features': 'log2', 'n_estimators': 200}\n",
      "--------------------------------------------------------------------------------------\n",
      "F1 macro score: 1.00 +/- 0.00\n",
      "{'max_depth': 12, 'max_features': 'log2', 'n_estimators': 300}\n",
      "--------------------------------------------------------------------------------------\n",
      "F1 macro score: 1.00 +/- 0.00\n",
      "{'max_depth': 16, 'max_features': 'sqrt', 'n_estimators': 100}\n",
      "--------------------------------------------------------------------------------------\n",
      "F1 macro score: 1.00 +/- 0.00\n",
      "{'max_depth': 16, 'max_features': 'sqrt', 'n_estimators': 200}\n",
      "--------------------------------------------------------------------------------------\n",
      "F1 macro score: 1.00 +/- 0.00\n",
      "{'max_depth': 16, 'max_features': 'sqrt', 'n_estimators': 300}\n",
      "--------------------------------------------------------------------------------------\n",
      "F1 macro score: 1.00 +/- 0.00\n",
      "{'max_depth': 16, 'max_features': 'log2', 'n_estimators': 100}\n",
      "--------------------------------------------------------------------------------------\n",
      "F1 macro score: 1.00 +/- 0.00\n",
      "{'max_depth': 16, 'max_features': 'log2', 'n_estimators': 200}\n",
      "--------------------------------------------------------------------------------------\n",
      "F1 macro score: 1.00 +/- 0.00\n",
      "{'max_depth': 16, 'max_features': 'log2', 'n_estimators': 300}\n",
      "--------------------------------------------------------------------------------------\n"
     ]
    }
   ],
   "source": [
    "# Try classification with random forest\n",
    "# Create parameter grid to search for optimal hyperparameters\n",
    "param_grid = {'n_estimators': [100, 200, 300],\n",
    "              'max_depth': [12, 16],\n",
    "              'max_features':['sqrt', 'log2']}\n",
    "\n",
    "# Do a parameter search to find best parameters, using F1 macro as a score\n",
    "for params in ParameterGrid(param_grid):\n",
    "    \n",
    "    # Get individual values\n",
    "    n_trees = params['n_estimators']\n",
    "    depth = params['max_depth']\n",
    "    max_features = params['max_features']\n",
    "    \n",
    "    # Define classifier\n",
    "    rf = RandomForestClassifier(n_estimators=100, max_depth=12, random_state=0)\n",
    "    \n",
    "    # Get cross-validation scores\n",
    "    cv_f1_macro = cross_val_score(rf, X_train, y_train, cv=5, scoring='f1_macro', n_jobs=-1)\n",
    "    \n",
    "    mean_f1_macro = np.mean(cv_f1_macro)\n",
    "    std_f1_macro = np.std(cv_f1_macro)\n",
    "    \n",
    "    print('F1 macro score: {0:.2f} +/- {1:.2f}'.format(np.mean(cv_f1_macro), np.std(cv_f1_macro)))\n",
    "    print(params)\n",
    "    print('--------------------------------------------------------------------------------------')"
   ]
  },
  {
   "cell_type": "markdown",
   "metadata": {},
   "source": [
    "We see that on the simulated data, the random forest classifier performs perfectly with all the different hyperparameters. Next, we use an optimized classifier and classify the test data."
   ]
  },
  {
   "cell_type": "code",
   "execution_count": 8,
   "metadata": {},
   "outputs": [],
   "source": [
    "best_rf = RandomForestClassifier(n_estimators=300, max_depth=16, max_features='sqrt' ,random_state=1)\n",
    "\n",
    "best_rf.fit(X_train, y_train)\n",
    "\n",
    "# Get class predictions and prediction probabilities\n",
    "y_pred = best_rf.predict(X_test)\n",
    "y_probabilities = best_rf.predict_proba(X_test)"
   ]
  },
  {
   "cell_type": "markdown",
   "metadata": {},
   "source": [
    "Let's see the confusion matrix for the test data."
   ]
  },
  {
   "cell_type": "code",
   "execution_count": 13,
   "metadata": {},
   "outputs": [
    {
     "name": "stdout",
     "output_type": "stream",
     "text": [
      "Overall accuracy: 1.00\n"
     ]
    },
    {
     "data": {
      "image/png": "[encoded data removed]",
      "text/plain": [
       "<Figure size 432x432 with 2 Axes>"
      ]
     },
     "metadata": {
      "needs_background": "light"
     },
     "output_type": "display_data"
    }
   ],
   "source": [
    "accuracy = sk.metrics.accuracy_score(y_test, y_pred)\n",
    "print('Overall accuracy: {0:.2f}'.format(accuracy))\n",
    "\n",
    "class_names = best_rf.classes_\n",
    "confusion_matrix = plot_confusion_matrix(y_test, y_pred, class_names, title='Simulated test set')\n",
    "\n",
    "fig = confusion_matrix.get_figure()"
   ]
  },
  {
   "cell_type": "markdown",
   "metadata": {},
   "source": [
    "Now let's see how the classifier performs on real data. We follow the same steps as above, and use the optimized classifier to classify real GOTO light curves."
   ]
  },
  {
   "cell_type": "code",
   "execution_count": 14,
   "metadata": {},
   "outputs": [],
   "source": [
    "# Read in real data features\n",
    "real_data = pd.read_csv('real_marshall_fats_features.csv')\n",
    "real_data = real_data.replace(['star', 'varstar'], 'flare/varstar')\n",
    "real_data = real_data.replace(['sn', 'at'], 'sn/transient')\n",
    "real_data = real_data.replace('IR', np.nan)\n",
    "real_data = real_data.dropna()    # There is one source classified as 'Infrared', we discard this\n",
    "\n",
    "# Split into features and labels\n",
    "real_labels = real_data['type']\n",
    "real_ids = real_data['identifier']\n",
    "real_features = real_data.drop(columns=['type', 'identifier'])"
   ]
  },
  {
   "cell_type": "code",
   "execution_count": 15,
   "metadata": {},
   "outputs": [],
   "source": [
    "# Make predictions\n",
    "real_pred = best_rf.predict(real_features)\n",
    "real_prob = best_rf.predict_proba(real_features)"
   ]
  },
  {
   "cell_type": "code",
   "execution_count": 16,
   "metadata": {},
   "outputs": [
    {
     "name": "stdout",
     "output_type": "stream",
     "text": [
      "Overall accuracy: 0.90\n"
     ]
    },
    {
     "data": {
      "image/png": "[encoded data removed]",
      "text/plain": [
       "<Figure size 432x432 with 2 Axes>"
      ]
     },
     "metadata": {
      "needs_background": "light"
     },
     "output_type": "display_data"
    }
   ],
   "source": [
    "results_list = []\n",
    "for pred, prob, true, idt in zip(real_pred, real_prob, real_labels, real_ids):\n",
    "    \n",
    "    p_star_var = prob[0].round(2)\n",
    "    p_sn = prob[1].round(2)\n",
    "    #p_varstar = prob[2].round(2)\n",
    "    \n",
    "    #print(pred , prob, true, idt)\n",
    "    \n",
    "    # Create a dictionary to store results\n",
    "    results = {'identifier':idt,\n",
    "               'true_type':true,\n",
    "               'predicted_type':pred,\n",
    "               'prob_star_varstar':p_star_var,\n",
    "               'prob_sn':p_sn}\n",
    "               #'prob_varstar':p_varstar}\n",
    "    \n",
    "    results_list.append(results)\n",
    "\n",
    "accuracy = sk.metrics.accuracy_score(real_labels, real_pred)\n",
    "print('Overall accuracy: {0:.2f}'.format(accuracy))\n",
    "\n",
    "class_names = best_rf.classes_\n",
    "confusion_matrix = plot_confusion_matrix(real_labels, real_pred, class_names, 'Real data')\n",
    "\n",
    "fig = confusion_matrix.get_figure()\n",
    "fig.savefig('rf_confusion_matrix_real_data.svg', format='svg', dpi=300, bbox_inches='tight')"
   ]
  },
  {
   "cell_type": "code",
   "execution_count": 17,
   "metadata": {},
   "outputs": [],
   "source": [
    "# Create dataframe to store results\n",
    "results_df = pd.DataFrame(results_list)"
   ]
  },
  {
   "cell_type": "markdown",
   "metadata": {},
   "source": [
    "Let's look at the classification probabilities of the real data that were classified as supernova/transient"
   ]
  },
  {
   "cell_type": "code",
   "execution_count": 19,
   "metadata": {},
   "outputs": [
    {
     "data": {
      "text/html": [
       "<div>\n",
       "<style scoped>\n",
       "    .dataframe tbody tr th:only-of-type {\n",
       "        vertical-align: middle;\n",
       "    }\n",
       "\n",
       "    .dataframe tbody tr th {\n",
       "        vertical-align: top;\n",
       "    }\n",
       "\n",
       "    .dataframe thead th {\n",
       "        text-align: right;\n",
       "    }\n",
       "</style>\n",
       "<table border=\"1\" class=\"dataframe\">\n",
       "  <thead>\n",
       "    <tr style=\"text-align: right;\">\n",
       "      <th></th>\n",
       "      <th>identifier</th>\n",
       "      <th>predicted_type</th>\n",
       "      <th>prob_sn</th>\n",
       "      <th>prob_star_varstar</th>\n",
       "      <th>true_type</th>\n",
       "    </tr>\n",
       "  </thead>\n",
       "  <tbody>\n",
       "    <tr>\n",
       "      <th>10</th>\n",
       "      <td>IRAS 16138-2004</td>\n",
       "      <td>sn/transient</td>\n",
       "      <td>0.63</td>\n",
       "      <td>0.37</td>\n",
       "      <td>flare/varstar</td>\n",
       "    </tr>\n",
       "    <tr>\n",
       "      <th>13</th>\n",
       "      <td>V* CX Oph</td>\n",
       "      <td>sn/transient</td>\n",
       "      <td>0.53</td>\n",
       "      <td>0.47</td>\n",
       "      <td>flare/varstar</td>\n",
       "    </tr>\n",
       "    <tr>\n",
       "      <th>19</th>\n",
       "      <td>V* PT Cyg</td>\n",
       "      <td>sn/transient</td>\n",
       "      <td>0.53</td>\n",
       "      <td>0.47</td>\n",
       "      <td>flare/varstar</td>\n",
       "    </tr>\n",
       "    <tr>\n",
       "      <th>31</th>\n",
       "      <td>V* V824 Aql</td>\n",
       "      <td>sn/transient</td>\n",
       "      <td>0.64</td>\n",
       "      <td>0.36</td>\n",
       "      <td>flare/varstar</td>\n",
       "    </tr>\n",
       "    <tr>\n",
       "      <th>32</th>\n",
       "      <td>V* V1258 Aql</td>\n",
       "      <td>sn/transient</td>\n",
       "      <td>0.65</td>\n",
       "      <td>0.35</td>\n",
       "      <td>flare/varstar</td>\n",
       "    </tr>\n",
       "    <tr>\n",
       "      <th>46</th>\n",
       "      <td>IRAS 19037-1122</td>\n",
       "      <td>sn/transient</td>\n",
       "      <td>0.54</td>\n",
       "      <td>0.46</td>\n",
       "      <td>flare/varstar</td>\n",
       "    </tr>\n",
       "    <tr>\n",
       "      <th>48</th>\n",
       "      <td>IRAS 18547+1254</td>\n",
       "      <td>sn/transient</td>\n",
       "      <td>0.53</td>\n",
       "      <td>0.47</td>\n",
       "      <td>flare/varstar</td>\n",
       "    </tr>\n",
       "    <tr>\n",
       "      <th>51</th>\n",
       "      <td>SN 2019bpc</td>\n",
       "      <td>sn/transient</td>\n",
       "      <td>0.75</td>\n",
       "      <td>0.25</td>\n",
       "      <td>sn/transient</td>\n",
       "    </tr>\n",
       "    <tr>\n",
       "      <th>52</th>\n",
       "      <td>SN 2019cea</td>\n",
       "      <td>sn/transient</td>\n",
       "      <td>0.82</td>\n",
       "      <td>0.18</td>\n",
       "      <td>sn/transient</td>\n",
       "    </tr>\n",
       "    <tr>\n",
       "      <th>53</th>\n",
       "      <td>AT 2019ch</td>\n",
       "      <td>sn/transient</td>\n",
       "      <td>0.81</td>\n",
       "      <td>0.19</td>\n",
       "      <td>sn/transient</td>\n",
       "    </tr>\n",
       "    <tr>\n",
       "      <th>54</th>\n",
       "      <td>SN 2019dek</td>\n",
       "      <td>sn/transient</td>\n",
       "      <td>0.74</td>\n",
       "      <td>0.26</td>\n",
       "      <td>sn/transient</td>\n",
       "    </tr>\n",
       "    <tr>\n",
       "      <th>55</th>\n",
       "      <td>SN 2019cth</td>\n",
       "      <td>sn/transient</td>\n",
       "      <td>0.83</td>\n",
       "      <td>0.17</td>\n",
       "      <td>sn/transient</td>\n",
       "    </tr>\n",
       "    <tr>\n",
       "      <th>56</th>\n",
       "      <td>AT 2018chc</td>\n",
       "      <td>sn/transient</td>\n",
       "      <td>0.80</td>\n",
       "      <td>0.20</td>\n",
       "      <td>sn/transient</td>\n",
       "    </tr>\n",
       "    <tr>\n",
       "      <th>57</th>\n",
       "      <td>SN 2019dwu</td>\n",
       "      <td>sn/transient</td>\n",
       "      <td>0.77</td>\n",
       "      <td>0.23</td>\n",
       "      <td>sn/transient</td>\n",
       "    </tr>\n",
       "    <tr>\n",
       "      <th>58</th>\n",
       "      <td>AT 2019eaj</td>\n",
       "      <td>sn/transient</td>\n",
       "      <td>0.53</td>\n",
       "      <td>0.47</td>\n",
       "      <td>sn/transient</td>\n",
       "    </tr>\n",
       "    <tr>\n",
       "      <th>59</th>\n",
       "      <td>AT 2019dlq</td>\n",
       "      <td>sn/transient</td>\n",
       "      <td>0.61</td>\n",
       "      <td>0.39</td>\n",
       "      <td>sn/transient</td>\n",
       "    </tr>\n",
       "    <tr>\n",
       "      <th>60</th>\n",
       "      <td>SN 2019dwq</td>\n",
       "      <td>sn/transient</td>\n",
       "      <td>0.72</td>\n",
       "      <td>0.28</td>\n",
       "      <td>sn/transient</td>\n",
       "    </tr>\n",
       "    <tr>\n",
       "      <th>61</th>\n",
       "      <td>SN 2019due</td>\n",
       "      <td>sn/transient</td>\n",
       "      <td>0.76</td>\n",
       "      <td>0.24</td>\n",
       "      <td>sn/transient</td>\n",
       "    </tr>\n",
       "    <tr>\n",
       "      <th>62</th>\n",
       "      <td>AT 2019cbb</td>\n",
       "      <td>sn/transient</td>\n",
       "      <td>0.75</td>\n",
       "      <td>0.25</td>\n",
       "      <td>sn/transient</td>\n",
       "    </tr>\n",
       "    <tr>\n",
       "      <th>63</th>\n",
       "      <td>SN 2019euw</td>\n",
       "      <td>sn/transient</td>\n",
       "      <td>0.81</td>\n",
       "      <td>0.19</td>\n",
       "      <td>sn/transient</td>\n",
       "    </tr>\n",
       "    <tr>\n",
       "      <th>64</th>\n",
       "      <td>AT 2019eus</td>\n",
       "      <td>sn/transient</td>\n",
       "      <td>0.81</td>\n",
       "      <td>0.19</td>\n",
       "      <td>sn/transient</td>\n",
       "    </tr>\n",
       "    <tr>\n",
       "      <th>65</th>\n",
       "      <td>SN 2019gci</td>\n",
       "      <td>sn/transient</td>\n",
       "      <td>0.55</td>\n",
       "      <td>0.45</td>\n",
       "      <td>sn/transient</td>\n",
       "    </tr>\n",
       "    <tr>\n",
       "      <th>66</th>\n",
       "      <td>AT 2019cws</td>\n",
       "      <td>sn/transient</td>\n",
       "      <td>0.81</td>\n",
       "      <td>0.19</td>\n",
       "      <td>sn/transient</td>\n",
       "    </tr>\n",
       "  </tbody>\n",
       "</table>\n",
       "</div>"
      ],
      "text/plain": [
       "         identifier predicted_type  prob_sn  prob_star_varstar      true_type\n",
       "10  IRAS 16138-2004   sn/transient     0.63               0.37  flare/varstar\n",
       "13        V* CX Oph   sn/transient     0.53               0.47  flare/varstar\n",
       "19        V* PT Cyg   sn/transient     0.53               0.47  flare/varstar\n",
       "31      V* V824 Aql   sn/transient     0.64               0.36  flare/varstar\n",
       "32     V* V1258 Aql   sn/transient     0.65               0.35  flare/varstar\n",
       "46  IRAS 19037-1122   sn/transient     0.54               0.46  flare/varstar\n",
       "48  IRAS 18547+1254   sn/transient     0.53               0.47  flare/varstar\n",
       "51       SN 2019bpc   sn/transient     0.75               0.25   sn/transient\n",
       "52       SN 2019cea   sn/transient     0.82               0.18   sn/transient\n",
       "53        AT 2019ch   sn/transient     0.81               0.19   sn/transient\n",
       "54       SN 2019dek   sn/transient     0.74               0.26   sn/transient\n",
       "55       SN 2019cth   sn/transient     0.83               0.17   sn/transient\n",
       "56       AT 2018chc   sn/transient     0.80               0.20   sn/transient\n",
       "57       SN 2019dwu   sn/transient     0.77               0.23   sn/transient\n",
       "58       AT 2019eaj   sn/transient     0.53               0.47   sn/transient\n",
       "59       AT 2019dlq   sn/transient     0.61               0.39   sn/transient\n",
       "60       SN 2019dwq   sn/transient     0.72               0.28   sn/transient\n",
       "61       SN 2019due   sn/transient     0.76               0.24   sn/transient\n",
       "62       AT 2019cbb   sn/transient     0.75               0.25   sn/transient\n",
       "63       SN 2019euw   sn/transient     0.81               0.19   sn/transient\n",
       "64       AT 2019eus   sn/transient     0.81               0.19   sn/transient\n",
       "65       SN 2019gci   sn/transient     0.55               0.45   sn/transient\n",
       "66       AT 2019cws   sn/transient     0.81               0.19   sn/transient"
      ]
     },
     "execution_count": 19,
     "metadata": {},
     "output_type": "execute_result"
    }
   ],
   "source": [
    "results_df[results_df['predicted_type']=='sn/transient']"
   ]
  },
  {
   "cell_type": "markdown",
   "metadata": {},
   "source": [
    "We see that all the non-sn objects classified as sn/transient have classification probabilities $<$ 0.64. A majority of correctly classified sn/transient objects have classification probabilities > 0.7, with only three (two unclassified transients, and one supernova) having probabilities below 0.7."
   ]
  }
 ],
 "metadata": {
  "kernelspec": {
   "display_name": "Python 3",
   "language": "python",
   "name": "python3"
  },
  "language_info": {
   "codemirror_mode": {
    "name": "ipython",
    "version": 3
   },
   "file_extension": ".py",
   "mimetype": "text/x-python",
   "name": "python",
   "nbconvert_exporter": "python",
   "pygments_lexer": "ipython3",
   "version": "3.6.8"
  }
 },
 "nbformat": 4,
 "nbformat_minor": 2
}
